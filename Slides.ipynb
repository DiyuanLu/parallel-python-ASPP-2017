{
 "cells": [
  {
   "cell_type": "markdown",
   "metadata": {},
   "source": [
    "# Parallel programming in Python\n",
    "\n",
    "\n",
    "~~~\n",
    "$ https://github.com/shwina/parallel-python-ASPP-2017/\n",
    "~~~"
   ]
  },
  {
   "cell_type": "markdown",
   "metadata": {},
   "source": [
    "## Broad scope\n",
    "\n",
    "* The vast majority of software is serial: will not use more than one core\n",
    "* Many problems are inherently sequential: **can not** use more than one core\n",
    "* Some problems are parallel: **can** use more than one core\n",
    "* Sometimes, it's worth the effort"
   ]
  },
  {
   "cell_type": "markdown",
   "metadata": {},
   "source": [
    "## Before you begin\n",
    "\n",
    "* Parallel programming is fun\n",
    "* Parallel programming is hard\n",
    "    * Harder to write\n",
    "    * Harder to test\n",
    "    * Harder to debug\n",
    "* Try to use somebody else's code"
   ]
  },
  {
   "cell_type": "markdown",
   "metadata": {},
   "source": [
    "## So why are you here?\n",
    "\n",
    "* You might be writing your own algorithms\n",
    "* You might not be happy with library performance\n",
    "* You might be programming for a new architecture\n",
    "* Writing your own parallel programs will help you reason better about somebody else's"
   ]
  },
  {
   "cell_type": "markdown",
   "metadata": {},
   "source": [
    "## When to parallelize\n",
    "\n",
    "When your algorithm/workflow is:\n",
    "\n",
    "* Lots of independent tasks **(EASY)**\n",
    "* A big task that can be broken into lots of smaller independent tasks **(USUALLY EASY)**\n",
    "* A big task that can be broken into smaller - but not independent - tasks **(HARD)**"
   ]
  },
  {
   "cell_type": "markdown",
   "metadata": {},
   "source": [
    "## Exercise 1"
   ]
  },
  {
   "cell_type": "code",
   "execution_count": 1,
   "metadata": {},
   "outputs": [
    {
     "name": "stdout",
     "output_type": "stream",
     "text": [
      "/home/ashwin/workspace/projects/parallel-python-ASPP-2017/multiprocessing\n"
     ]
    }
   ],
   "source": [
    "cd multiprocessing/"
   ]
  },
  {
   "cell_type": "code",
   "execution_count": 2,
   "metadata": {
    "scrolled": true
   },
   "outputs": [
    {
     "name": "stdout",
     "output_type": "stream",
     "text": [
      "/home/ashwin/software/miniconda/envs/parallel/lib/python3.5/site-packages/skimage/transform/_warps.py:84: UserWarning: The default mode, 'constant', will be changed to 'reflect' in skimage 0.15.\n",
      "  warn(\"The default mode, 'constant', will be changed to 'reflect' in \"\n",
      "/home/ashwin/software/miniconda/envs/parallel/lib/python3.5/site-packages/skimage/transform/_warps.py:84: UserWarning: The default mode, 'constant', will be changed to 'reflect' in skimage 0.15.\n",
      "  warn(\"The default mode, 'constant', will be changed to 'reflect' in \"\n",
      "(730, 1440)\n",
      "/home/ashwin/software/miniconda/envs/parallel/lib/python3.5/site-packages/skimage/transform/_warps.py:84: UserWarning: The default mode, 'constant', will be changed to 'reflect' in skimage 0.15.\n",
      "  warn(\"The default mode, 'constant', will be changed to 'reflect' in \"\n",
      "(730, 1440)\n",
      "/home/ashwin/software/miniconda/envs/parallel/lib/python3.5/site-packages/skimage/transform/_warps.py:84: UserWarning: The default mode, 'constant', will be changed to 'reflect' in skimage 0.15.\n",
      "  warn(\"The default mode, 'constant', will be changed to 'reflect' in \"\n",
      "(730, 1440)\n",
      "/home/ashwin/software/miniconda/envs/parallel/lib/python3.5/site-packages/skimage/transform/_warps.py:84: UserWarning: The default mode, 'constant', will be changed to 'reflect' in skimage 0.15.\n",
      "  warn(\"The default mode, 'constant', will be changed to 'reflect' in \"\n",
      "(730, 1440)\n",
      "/home/ashwin/software/miniconda/envs/parallel/lib/python3.5/site-packages/skimage/transform/_warps.py:84: UserWarning: The default mode, 'constant', will be changed to 'reflect' in skimage 0.15.\n",
      "  warn(\"The default mode, 'constant', will be changed to 'reflect' in \"\n",
      "(730, 1440)\n",
      "/home/ashwin/software/miniconda/envs/parallel/lib/python3.5/site-packages/skimage/transform/_warps.py:84: UserWarning: The default mode, 'constant', will be changed to 'reflect' in skimage 0.15.\n",
      "  warn(\"The default mode, 'constant', will be changed to 'reflect' in \"\n",
      "(730, 1440)\n",
      "/home/ashwin/software/miniconda/envs/parallel/lib/python3.5/site-packages/skimage/transform/_warps.py:84: UserWarning: The default mode, 'constant', will be changed to 'reflect' in skimage 0.15.\n",
      "  warn(\"The default mode, 'constant', will be changed to 'reflect' in \"\n",
      "(730, 1440)\n"
     ]
    }
   ],
   "source": [
    "!python prep.py"
   ]
  },
  {
   "cell_type": "code",
   "execution_count": 5,
   "metadata": {},
   "outputs": [
    {
     "name": "stdout",
     "output_type": "stream",
     "text": [
      "2010.csv  2013.csv  2016.csv\t   prep.py\t\tsolution_ex1.py\r\n",
      "2011.csv  2014.csv  2017.csv\t   process_raw_data.py\tsolution_ex2.py\r\n",
      "2012.csv  2015.csv  make_plots.py  raw_data\t\tweather.hdf5\r\n"
     ]
    }
   ],
   "source": [
    "!ls"
   ]
  },
  {
   "cell_type": "markdown",
   "metadata": {},
   "source": [
    "Load the data in `weather.hdf5`, which contains global temperature averages for the years 2010-2017, in a three dimensional numpy array. Plot the data from each year using Matplotlib's `imshow` function with `lanczos` , saving the result to a `.png` file, e.g., `2010.png`.\n",
    "\n",
    "At the end of the exercise, you will have 8 `.png` files.\n",
    "\n",
    "Start with the file `make_plots.py`"
   ]
  },
  {
   "cell_type": "markdown",
   "metadata": {},
   "source": [
    "## Exercise 2"
   ]
  },
  {
   "cell_type": "markdown",
   "metadata": {},
   "source": [
    "Re-write your script `make_plots.py` to use `multiprocessing` to make plots in parallel (make a copy of the file)."
   ]
  },
  {
   "cell_type": "markdown",
   "metadata": {},
   "source": [
    "## Exercise 3"
   ]
  },
  {
   "cell_type": "markdown",
   "metadata": {},
   "source": [
    "Use `silly_sum` to compute the mean of an array using multiple processes. See `silly_mean.py`"
   ]
  },
  {
   "cell_type": "markdown",
   "metadata": {},
   "source": [
    "## Exercise 4"
   ]
  },
  {
   "cell_type": "markdown",
   "metadata": {},
   "source": [
    "Repeat the above, but using `RawArray` to create a shared array among the processes. see `silly_mean_2.py` for a starting point"
   ]
  }
 ],
 "metadata": {
  "kernelspec": {
   "display_name": "Python 3",
   "language": "python",
   "name": "python3"
  },
  "language_info": {
   "codemirror_mode": {
    "name": "ipython",
    "version": 3
   },
   "file_extension": ".py",
   "mimetype": "text/x-python",
   "name": "python",
   "nbconvert_exporter": "python",
   "pygments_lexer": "ipython3",
   "version": "3.5.4"
  }
 },
 "nbformat": 4,
 "nbformat_minor": 2
}
