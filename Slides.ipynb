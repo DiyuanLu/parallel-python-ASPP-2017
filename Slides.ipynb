{
 "cells": [
  {
   "cell_type": "markdown",
   "metadata": {},
   "source": [
    "### Before you begin\n",
    "\n",
    "* The vast majority of software is serial: will not use more than one core\n",
    "* Many problems are inherently sequential: **can not** use more than one core\n",
    "* Some problems are parallel: **can** use more than one core\n",
    "* Fewer problems are worth the effort"
   ]
  },
  {
   "cell_type": "markdown",
   "metadata": {},
   "source": [
    "### Before you begin\n",
    "\n",
    "* Parallel programming is hard\n",
    "    * Harder to write and reason about\n",
    "    * Harder to test\n",
    "    * Harder to debug\n",
    "* Try to use someone else's parallel programs"
   ]
  },
  {
   "cell_type": "markdown",
   "metadata": {},
   "source": [
    "### So why are you here?\n",
    "\n",
    "* You might be writing your own algorithms\n",
    "* You might not be happy with library performance\n",
    "* You might be programming for a new architecture\n",
    "* You might be crazy \n",
    "* Even if you won't be writing your own parallel software, understanding how it works will help you better use somebody else's"
   ]
  },
  {
   "cell_type": "markdown",
   "metadata": {},
   "source": [
    "### When to parallelize\n",
    "\n",
    "When your algorithm, program, or worflow is:\n",
    "\n",
    "* Lots of independent tasks **(EASY)**\n",
    "* A big task that can be broken into lots of smaller independent tasks **(USUALLY EASY)**\n",
    "* A big task that can be broken into smaller - but not independent - tasks **(HARD)**"
   ]
  },
  {
   "cell_type": "markdown",
   "metadata": {},
   "source": [
    "### How much do you know about your computer?\n",
    "\n",
    "<input type=\"checkbox\" class=\"task-list-item-checkbox\" checked=\"\" disabled=\"\"> Cores \n",
    "<input type=\"checkbox\" class=\"task-list-item-checkbox\" checked=\"\" disabled=\"\"> RAM \n",
    "<input type=\"checkbox\" class=\"task-list-item-checkbox\" checked=\"\" disabled=\"\"> Disk\n",
    "\n",
    "#### Congratulations!"
   ]
  },
  {
   "cell_type": "markdown",
   "metadata": {},
   "source": [
    "### What can you do with cores?\n",
    "\n",
    "* Run lots of programs (**processes**)\n",
    "* Run a single program with lots of **threads**"
   ]
  },
  {
   "cell_type": "code",
   "execution_count": 1,
   "metadata": {},
   "outputs": [
    {
     "data": {
      "text/plain": [
       "False"
      ]
     },
     "execution_count": 1,
     "metadata": {},
     "output_type": "execute_result"
    }
   ],
   "source": [
    "\"More cores\" == \"Faster code\""
   ]
  },
  {
   "cell_type": "code",
   "execution_count": 4,
   "metadata": {
    "collapsed": true
   },
   "outputs": [],
   "source": [
    "import numpy\n",
    "data = numpy.random.rand(int(1e7))"
   ]
  },
  {
   "cell_type": "code",
   "execution_count": 6,
   "metadata": {},
   "outputs": [
    {
     "name": "stdout",
     "output_type": "stream",
     "text": [
      "7.24 ms ± 89.3 µs per loop (mean ± std. dev. of 7 runs, 100 loops each)\n"
     ]
    }
   ],
   "source": [
    "%timeit data.mean()"
   ]
  },
  {
   "cell_type": "markdown",
   "metadata": {},
   "source": [
    "## PARALLEL LIBRARIES IN PYTHON"
   ]
  },
  {
   "cell_type": "markdown",
   "metadata": {},
   "source": [
    "## Parallel Hello World"
   ]
  },
  {
   "cell_type": "markdown",
   "metadata": {},
   "source": [
    "#### Quick review of `map`"
   ]
  },
  {
   "cell_type": "code",
   "execution_count": 11,
   "metadata": {},
   "outputs": [],
   "source": [
    "def hello(name):\n",
    "    return (\"Hello, {}!\".format(name))\n",
    "    \n",
    "friends = [\"computer\", \"thesis\", \"mom\"]\n",
    "greetings = list(map(hello, friends))"
   ]
  },
  {
   "cell_type": "code",
   "execution_count": 12,
   "metadata": {},
   "outputs": [
    {
     "name": "stdout",
     "output_type": "stream",
     "text": [
      "['Hello, computer', 'Hello, thesis', 'Hello, mom']\n"
     ]
    }
   ],
   "source": [
    "print(greetings)"
   ]
  },
  {
   "cell_type": "code",
   "execution_count": 13,
   "metadata": {},
   "outputs": [
    {
     "name": "stdout",
     "output_type": "stream",
     "text": [
      "['Hello, computer', 'Hello, thesis', 'Hello, mom']\n"
     ]
    }
   ],
   "source": [
    "import multiprocessing\n",
    "p = multiprocessing.Pool(3)\n",
    "greetings = p.map(hello, friends)\n",
    "print(greetings)"
   ]
  },
  {
   "cell_type": "code",
   "execution_count": 16,
   "metadata": {},
   "outputs": [
    {
     "name": "stdout",
     "output_type": "stream",
     "text": [
      "['Hello, computer', 'Hello, thesis', 'Hello, mom']\n"
     ]
    }
   ],
   "source": [
    "import time\n",
    "def hello(name):\n",
    "    time.sleep(3)\n",
    "    return (\"Hello, {}!\".format(name))\n",
    "    \n",
    "friends = [\"computer\", \"thesis\", \"mom\"]\n",
    "greetings = list(map(hello, friends))\n",
    "print(greetings)"
   ]
  },
  {
   "cell_type": "code",
   "execution_count": 17,
   "metadata": {},
   "outputs": [
    {
     "name": "stdout",
     "output_type": "stream",
     "text": [
      "['Hello, computer', 'Hello, thesis', 'Hello, mom']\n"
     ]
    }
   ],
   "source": [
    "import multiprocessing\n",
    "p = multiprocessing.Pool(3)\n",
    "greetings = p.map(hello, friends)\n",
    "print(greetings)"
   ]
  },
  {
   "cell_type": "code",
   "execution_count": null,
   "metadata": {
    "collapsed": true
   },
   "outputs": [],
   "source": []
  }
 ],
 "metadata": {
  "kernelspec": {
   "display_name": "Python 3",
   "language": "python",
   "name": "python3"
  },
  "language_info": {
   "codemirror_mode": {
    "name": "ipython",
    "version": 3
   },
   "file_extension": ".py",
   "mimetype": "text/x-python",
   "name": "python",
   "nbconvert_exporter": "python",
   "pygments_lexer": "ipython3",
   "version": "3.5.4"
  }
 },
 "nbformat": 4,
 "nbformat_minor": 2
}
