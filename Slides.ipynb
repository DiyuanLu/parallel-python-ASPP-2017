{
 "cells": [
  {
   "cell_type": "markdown",
   "metadata": {},
   "source": [
    "## Before you begin\n",
    "\n",
    "* The vast majority of software is serial: will not use more than one core\n",
    "* Many problems are inherently sequential: **can not** use more than one core\n",
    "* Some problems are parallel: **can** use more than one core\n",
    "* Fewer problems are worth the effort"
   ]
  },
  {
   "cell_type": "markdown",
   "metadata": {},
   "source": [
    "## Before you begin\n",
    "\n",
    "* Parallel programming is hard\n",
    "    * Harder to write and reason about\n",
    "    * Harder to test\n",
    "    * Harder to debug\n",
    "* Try to use someone else's parallel programs"
   ]
  },
  {
   "cell_type": "markdown",
   "metadata": {},
   "source": [
    "## So why are you here?\n",
    "\n",
    "* You might be writing your own algorithms\n",
    "* You might not be happy with library performance\n",
    "* You might be programming for a new architecture\n",
    "* You might be crazy \n",
    "* Even if you won't be writing your own parallel software, understanding how it works will help you better use somebody else's"
   ]
  },
  {
   "cell_type": "markdown",
   "metadata": {},
   "source": [
    "## When to parallelize\n",
    "\n",
    "When your algorithm, program, or worflow is:\n",
    "\n",
    "* Lots of independent tasks **(EASY)**\n",
    "* A big task that can be broken into lots of smaller independent tasks **(USUALLY EASY)**\n",
    "* A big task that can be broken into smaller - but not independent - tasks **(HARD)**"
   ]
  },
  {
   "cell_type": "markdown",
   "metadata": {},
   "source": [
    "## How much do you know about your computer?\n",
    "\n",
    "<input type=\"checkbox\" class=\"task-list-item-checkbox\" checked=\"\" disabled=\"\"> Cores \n",
    "<input type=\"checkbox\" class=\"task-list-item-checkbox\" checked=\"\" disabled=\"\"> RAM \n",
    "<input type=\"checkbox\" class=\"task-list-item-checkbox\" checked=\"\" disabled=\"\"> Disk\n",
    "\n",
    "#### Congratulations!"
   ]
  },
  {
   "cell_type": "markdown",
   "metadata": {},
   "source": [
    "## What can you do with cores?\n",
    "\n",
    "* Run lots of programs (**processes**)\n",
    "* Run a single program with lots of **threads**"
   ]
  },
  {
   "cell_type": "code",
   "execution_count": 1,
   "metadata": {},
   "outputs": [
    {
     "data": {
      "text/plain": [
       "False"
      ]
     },
     "execution_count": 1,
     "metadata": {},
     "output_type": "execute_result"
    }
   ],
   "source": [
    "\"More cores\" == \"Faster code\""
   ]
  },
  {
   "cell_type": "markdown",
   "metadata": {},
   "source": [
    "### Monitor core usage with `htop`"
   ]
  },
  {
   "cell_type": "code",
   "execution_count": 2,
   "metadata": {
    "collapsed": true
   },
   "outputs": [],
   "source": [
    "import numpy\n",
    "data = numpy.random.rand(int(1e7))"
   ]
  },
  {
   "cell_type": "code",
   "execution_count": 3,
   "metadata": {},
   "outputs": [
    {
     "name": "stdout",
     "output_type": "stream",
     "text": [
      "7.66 ms ± 668 µs per loop (mean ± std. dev. of 7 runs, 100 loops each)\n"
     ]
    }
   ],
   "source": [
    "%timeit data.mean()"
   ]
  },
  {
   "cell_type": "markdown",
   "metadata": {},
   "source": [
    "## PARALLEL LIBRARIES IN PYTHON"
   ]
  },
  {
   "cell_type": "markdown",
   "metadata": {
    "collapsed": true
   },
   "source": [
    "## Plotting weather data"
   ]
  },
  {
   "cell_type": "markdown",
   "metadata": {},
   "source": [
    "Make a bunch of `.csv` files, corresponding to the mean global temperatures for the years 2000-2007:"
   ]
  },
  {
   "cell_type": "code",
   "execution_count": 15,
   "metadata": {},
   "outputs": [
    {
     "name": "stdout",
     "output_type": "stream",
     "text": [
      "/home/ashwin/workspace/projects/parallel-python-ASPP-2017/temperatures\n"
     ]
    }
   ],
   "source": [
    "cd temperatures/"
   ]
  },
  {
   "cell_type": "code",
   "execution_count": 16,
   "metadata": {},
   "outputs": [
    {
     "name": "stdout",
     "output_type": "stream",
     "text": [
      "/home/ashwin/software/miniconda/envs/parallel/lib/python3.5/site-packages/skimage/transform/_warps.py:84: UserWarning: The default mode, 'constant', will be changed to 'reflect' in skimage 0.15.\n",
      "  warn(\"The default mode, 'constant', will be changed to 'reflect' in \"\n",
      "2014.csv\n",
      "/home/ashwin/software/miniconda/envs/parallel/lib/python3.5/site-packages/skimage/transform/_warps.py:84: UserWarning: The default mode, 'constant', will be changed to 'reflect' in skimage 0.15.\n",
      "  warn(\"The default mode, 'constant', will be changed to 'reflect' in \"\n",
      "2012.csv\n",
      "/home/ashwin/software/miniconda/envs/parallel/lib/python3.5/site-packages/skimage/transform/_warps.py:84: UserWarning: The default mode, 'constant', will be changed to 'reflect' in skimage 0.15.\n",
      "  warn(\"The default mode, 'constant', will be changed to 'reflect' in \"\n",
      "2013.csv\n",
      "/home/ashwin/software/miniconda/envs/parallel/lib/python3.5/site-packages/skimage/transform/_warps.py:84: UserWarning: The default mode, 'constant', will be changed to 'reflect' in skimage 0.15.\n",
      "  warn(\"The default mode, 'constant', will be changed to 'reflect' in \"\n",
      "2017.csv\n",
      "/home/ashwin/software/miniconda/envs/parallel/lib/python3.5/site-packages/skimage/transform/_warps.py:84: UserWarning: The default mode, 'constant', will be changed to 'reflect' in skimage 0.15.\n",
      "  warn(\"The default mode, 'constant', will be changed to 'reflect' in \"\n",
      "2015.csv\n",
      "/home/ashwin/software/miniconda/envs/parallel/lib/python3.5/site-packages/skimage/transform/_warps.py:84: UserWarning: The default mode, 'constant', will be changed to 'reflect' in skimage 0.15.\n",
      "  warn(\"The default mode, 'constant', will be changed to 'reflect' in \"\n",
      "2016.csv\n",
      "/home/ashwin/software/miniconda/envs/parallel/lib/python3.5/site-packages/skimage/transform/_warps.py:84: UserWarning: The default mode, 'constant', will be changed to 'reflect' in skimage 0.15.\n",
      "  warn(\"The default mode, 'constant', will be changed to 'reflect' in \"\n",
      "2010.csv\n",
      "/home/ashwin/software/miniconda/envs/parallel/lib/python3.5/site-packages/skimage/transform/_warps.py:84: UserWarning: The default mode, 'constant', will be changed to 'reflect' in skimage 0.15.\n",
      "  warn(\"The default mode, 'constant', will be changed to 'reflect' in \"\n",
      "2011.csv\n"
     ]
    }
   ],
   "source": [
    "!python prep.py"
   ]
  },
  {
   "cell_type": "code",
   "execution_count": 17,
   "metadata": {},
   "outputs": [
    {
     "name": "stdout",
     "output_type": "stream",
     "text": [
      "2010.csv  2014.csv  dask_solution.py\t solution_multiprocessing.py\r\n",
      "2011.csv  2015.csv  prep.py\t\t solution.py\r\n",
      "2012.csv  2016.csv  process_raw_data.py\r\n",
      "2013.csv  2017.csv  raw_data\r\n"
     ]
    }
   ],
   "source": [
    "!ls"
   ]
  },
  {
   "cell_type": "code",
   "execution_count": 18,
   "metadata": {
    "collapsed": true
   },
   "outputs": [],
   "source": [
    "import numpy as np\n",
    "import matplotlib.pyplot as plt"
   ]
  },
  {
   "cell_type": "code",
   "execution_count": 19,
   "metadata": {
    "collapsed": true
   },
   "outputs": [],
   "source": [
    "%matplotlib inline"
   ]
  },
  {
   "cell_type": "code",
   "execution_count": 39,
   "metadata": {},
   "outputs": [
    {
     "data": {
      "text/plain": [
       "<matplotlib.colorbar.Colorbar at 0x7f62f2438ba8>"
      ]
     },
     "execution_count": 39,
     "metadata": {},
     "output_type": "execute_result"
    },
    {
     "data": {
      "image/png": "[encoded data removed]",
      "text/plain": [
       "<matplotlib.figure.Figure at 0x7f62f24a5470>"
      ]
     },
     "metadata": {},
     "output_type": "display_data"
    }
   ],
   "source": [
    "data = np.loadtxt('2013.csv', delimiter=',')\n",
    "plt.figure(figsize=(12, 6))\n",
    "plt.imshow(data)\n",
    "plt.colorbar()"
   ]
  },
  {
   "cell_type": "markdown",
   "metadata": {},
   "source": [
    "### Exercise"
   ]
  },
  {
   "cell_type": "markdown",
   "metadata": {},
   "source": [
    "Plot the data from all the `.csv` files by writing a script `plot_weather.py`. Save your plots as `.png` files. How long does your script take to run?"
   ]
  },
  {
   "cell_type": "markdown",
   "metadata": {},
   "source": [
    "## Parallel Hello World"
   ]
  },
  {
   "cell_type": "markdown",
   "metadata": {},
   "source": [
    "### Quick review of `map`"
   ]
  },
  {
   "cell_type": "code",
   "execution_count": 4,
   "metadata": {
    "collapsed": true
   },
   "outputs": [],
   "source": [
    "def hello(name):\n",
    "    return (\"Hello, {}!\".format(name))\n",
    "    \n",
    "friends = [\"computer\", \"thesis\", \"mom\"]\n",
    "greetings = list(map(hello, friends))"
   ]
  },
  {
   "cell_type": "code",
   "execution_count": 5,
   "metadata": {},
   "outputs": [
    {
     "name": "stdout",
     "output_type": "stream",
     "text": [
      "['Hello, computer!', 'Hello, thesis!', 'Hello, mom!']\n"
     ]
    }
   ],
   "source": [
    "print(greetings)"
   ]
  },
  {
   "cell_type": "code",
   "execution_count": 6,
   "metadata": {},
   "outputs": [
    {
     "name": "stdout",
     "output_type": "stream",
     "text": [
      "['Hello, computer!', 'Hello, thesis!', 'Hello, mom!']\n"
     ]
    }
   ],
   "source": [
    "import multiprocessing\n",
    "p = multiprocessing.Pool(3)\n",
    "greetings = p.map(hello, friends)\n",
    "print(greetings)"
   ]
  },
  {
   "cell_type": "code",
   "execution_count": 7,
   "metadata": {},
   "outputs": [
    {
     "name": "stdout",
     "output_type": "stream",
     "text": [
      "['Hello, computer!', 'Hello, thesis!', 'Hello, mom!']\n"
     ]
    }
   ],
   "source": [
    "import time\n",
    "def hello(name):\n",
    "    time.sleep(3)\n",
    "    return (\"Hello, {}!\".format(name))\n",
    "    \n",
    "friends = [\"computer\", \"thesis\", \"mom\"]\n",
    "greetings = list(map(hello, friends))\n",
    "print(greetings)"
   ]
  },
  {
   "cell_type": "code",
   "execution_count": 8,
   "metadata": {},
   "outputs": [
    {
     "name": "stdout",
     "output_type": "stream",
     "text": [
      "['Hello, computer!', 'Hello, thesis!', 'Hello, mom!']\n"
     ]
    }
   ],
   "source": [
    "import multiprocessing\n",
    "p = multiprocessing.Pool(3)\n",
    "greetings = p.map(hello, friends)\n",
    "print(greetings)"
   ]
  },
  {
   "cell_type": "code",
   "execution_count": null,
   "metadata": {
    "collapsed": true
   },
   "outputs": [],
   "source": []
  },
  {
   "cell_type": "code",
   "execution_count": null,
   "metadata": {
    "collapsed": true
   },
   "outputs": [],
   "source": []
  }
 ],
 "metadata": {
  "kernelspec": {
   "display_name": "Python 3",
   "language": "python",
   "name": "python3"
  },
  "language_info": {
   "codemirror_mode": {
    "name": "ipython",
    "version": 3
   },
   "file_extension": ".py",
   "mimetype": "text/x-python",
   "name": "python",
   "nbconvert_exporter": "python",
   "pygments_lexer": "ipython3",
   "version": "3.5.4"
  }
 },
 "nbformat": 4,
 "nbformat_minor": 2
}
